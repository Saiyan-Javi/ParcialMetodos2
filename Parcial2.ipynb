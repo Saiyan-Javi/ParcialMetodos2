{
 "cells": [
  {
   "cell_type": "markdown",
   "id": "c949c9fb",
   "metadata": {},
   "source": [
    "## Parcial 1 Métodos numéricos 2\n",
    "## Sección 10\n",
    "Javier Alejandro Ovalle Chiquín, 22103  \n",
    "Ricardo Josué Morales Contreras, 22289 "
   ]
  },
  {
   "cell_type": "code",
   "execution_count": null,
   "id": "ab4c5e41",
   "metadata": {},
   "outputs": [],
   "source": []
  }
 ],
 "metadata": {
  "language_info": {
   "name": "python"
  }
 },
 "nbformat": 4,
 "nbformat_minor": 5
}
